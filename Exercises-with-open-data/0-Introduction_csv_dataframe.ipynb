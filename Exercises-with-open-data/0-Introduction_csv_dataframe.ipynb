{
 "cells": [
  {
   "cell_type": "markdown",
   "metadata": {},
   "source": [
    "# Using the CSV format in Jupyter"
   ]
  },
  {
   "cell_type": "markdown",
   "metadata": {},
   "source": [
    "The data collected by the CMS detector can be handled in many different file formats. One easy way is to handle the data in CSV files (comma-separated values). A CSV file is basically a regular text file which includes values separated by commas and lines."
   ]
  },
  {
   "cell_type": "markdown",
   "metadata": {},
   "source": [
    "### Reading the CSV file\n"
   ]
  },
  {
   "cell_type": "markdown",
   "metadata": {},
   "source": [
    "CSV files can be read for example with the function read___csv( ) of the pandas module. Let's read the file Zmumu___Run2011A.csv which is in the folder Data in the parent directory. Let's also save the content of the file to the variable dataset.\n",
    "\n",
    "The file contains events from the CMS primary dataset [1] with the specific selection criteria [2].\n",
    "\n",
    "\n",
    "[1] CMS collaboration (2016). DoubleMu primary dataset in AOD format from RunA of 2011 (/DoubleMu/Run2011A-12Oct2013-v1/AOD). CERN Open Data Portal. DOI: 10.7483/OPENDATA.CMS.RZ34.QR6N.\n",
    "[2] Thomas McCauley (2016). Jpsimumu. Jupyter Notebook file. https://github.com/tpmccauley/cmsopendata-jupyter/blob/hst-0.1/Jpsimumu.ipynb."
   ]
  },
  {
   "cell_type": "code",
   "execution_count": 1,
   "metadata": {},
   "outputs": [],
   "source": [
    "import pandas\n",
    "\n",
    "dataset = pandas.read_csv('../Data/Zmumu_Run2011A.csv')"
   ]
  },
  {
   "cell_type": "markdown",
   "metadata": {},
   "source": [
    "We can check what kind of information the file we read contains. Let's use the command _head( )_ of the _pandas_ module which will print the first five lines of the DataFrame variable written before the command ([pandas documentation](http://pandas.pydata.org/pandas-docs/stable/generated/pandas.DataFrame.head.html))."
   ]
  },
  {
   "cell_type": "code",
   "execution_count": 2,
   "metadata": {},
   "outputs": [
    {
     "data": {
      "text/html": [
       "<div>\n",
       "<style scoped>\n",
       "    .dataframe tbody tr th:only-of-type {\n",
       "        vertical-align: middle;\n",
       "    }\n",
       "\n",
       "    .dataframe tbody tr th {\n",
       "        vertical-align: top;\n",
       "    }\n",
       "\n",
       "    .dataframe thead th {\n",
       "        text-align: right;\n",
       "    }\n",
       "</style>\n",
       "<table border=\"1\" class=\"dataframe\">\n",
       "  <thead>\n",
       "    <tr style=\"text-align: right;\">\n",
       "      <th></th>\n",
       "      <th>Run</th>\n",
       "      <th>Event</th>\n",
       "      <th>pt1</th>\n",
       "      <th>eta1</th>\n",
       "      <th>phi1</th>\n",
       "      <th>Q1</th>\n",
       "      <th>dxy1</th>\n",
       "      <th>iso1</th>\n",
       "      <th>pt2</th>\n",
       "      <th>eta2</th>\n",
       "      <th>phi2</th>\n",
       "      <th>Q2</th>\n",
       "      <th>dxy2</th>\n",
       "      <th>iso2</th>\n",
       "    </tr>\n",
       "  </thead>\n",
       "  <tbody>\n",
       "    <tr>\n",
       "      <th>0</th>\n",
       "      <td>165617</td>\n",
       "      <td>74969122</td>\n",
       "      <td>54.7055</td>\n",
       "      <td>-0.432396</td>\n",
       "      <td>2.574210</td>\n",
       "      <td>1</td>\n",
       "      <td>-0.074544</td>\n",
       "      <td>0.499921</td>\n",
       "      <td>34.2464</td>\n",
       "      <td>-0.988480</td>\n",
       "      <td>-0.498704</td>\n",
       "      <td>-1</td>\n",
       "      <td>0.071222</td>\n",
       "      <td>3.42214</td>\n",
       "    </tr>\n",
       "    <tr>\n",
       "      <th>1</th>\n",
       "      <td>165617</td>\n",
       "      <td>75138253</td>\n",
       "      <td>24.5872</td>\n",
       "      <td>-2.052200</td>\n",
       "      <td>2.866570</td>\n",
       "      <td>-1</td>\n",
       "      <td>-0.055437</td>\n",
       "      <td>0.000000</td>\n",
       "      <td>28.5389</td>\n",
       "      <td>0.385163</td>\n",
       "      <td>-1.991170</td>\n",
       "      <td>1</td>\n",
       "      <td>0.051477</td>\n",
       "      <td>0.00000</td>\n",
       "    </tr>\n",
       "    <tr>\n",
       "      <th>2</th>\n",
       "      <td>165617</td>\n",
       "      <td>75887636</td>\n",
       "      <td>31.7386</td>\n",
       "      <td>-2.259450</td>\n",
       "      <td>-1.332290</td>\n",
       "      <td>-1</td>\n",
       "      <td>0.087917</td>\n",
       "      <td>0.000000</td>\n",
       "      <td>30.2344</td>\n",
       "      <td>-0.468419</td>\n",
       "      <td>1.883310</td>\n",
       "      <td>1</td>\n",
       "      <td>-0.087639</td>\n",
       "      <td>0.00000</td>\n",
       "    </tr>\n",
       "    <tr>\n",
       "      <th>3</th>\n",
       "      <td>165617</td>\n",
       "      <td>75779415</td>\n",
       "      <td>39.7394</td>\n",
       "      <td>-0.712338</td>\n",
       "      <td>-0.312266</td>\n",
       "      <td>1</td>\n",
       "      <td>0.058481</td>\n",
       "      <td>0.000000</td>\n",
       "      <td>48.2790</td>\n",
       "      <td>-0.195625</td>\n",
       "      <td>2.970320</td>\n",
       "      <td>-1</td>\n",
       "      <td>-0.049201</td>\n",
       "      <td>0.00000</td>\n",
       "    </tr>\n",
       "    <tr>\n",
       "      <th>4</th>\n",
       "      <td>165617</td>\n",
       "      <td>75098104</td>\n",
       "      <td>41.2998</td>\n",
       "      <td>-0.157055</td>\n",
       "      <td>-3.040770</td>\n",
       "      <td>1</td>\n",
       "      <td>-0.030463</td>\n",
       "      <td>1.228040</td>\n",
       "      <td>43.4508</td>\n",
       "      <td>0.590958</td>\n",
       "      <td>-0.042756</td>\n",
       "      <td>-1</td>\n",
       "      <td>0.044175</td>\n",
       "      <td>0.00000</td>\n",
       "    </tr>\n",
       "  </tbody>\n",
       "</table>\n",
       "</div>"
      ],
      "text/plain": [
       "      Run     Event      pt1      eta1      phi1  Q1      dxy1      iso1  \\\n",
       "0  165617  74969122  54.7055 -0.432396  2.574210   1 -0.074544  0.499921   \n",
       "1  165617  75138253  24.5872 -2.052200  2.866570  -1 -0.055437  0.000000   \n",
       "2  165617  75887636  31.7386 -2.259450 -1.332290  -1  0.087917  0.000000   \n",
       "3  165617  75779415  39.7394 -0.712338 -0.312266   1  0.058481  0.000000   \n",
       "4  165617  75098104  41.2998 -0.157055 -3.040770   1 -0.030463  1.228040   \n",
       "\n",
       "       pt2      eta2      phi2  Q2      dxy2     iso2  \n",
       "0  34.2464 -0.988480 -0.498704  -1  0.071222  3.42214  \n",
       "1  28.5389  0.385163 -1.991170   1  0.051477  0.00000  \n",
       "2  30.2344 -0.468419  1.883310   1 -0.087639  0.00000  \n",
       "3  48.2790 -0.195625  2.970320  -1 -0.049201  0.00000  \n",
       "4  43.4508  0.590958 -0.042756  -1  0.044175  0.00000  "
      ]
     },
     "execution_count": 2,
     "metadata": {},
     "output_type": "execute_result"
    }
   ],
   "source": [
    "dataset.head()"
   ]
  },
  {
   "cell_type": "markdown",
   "metadata": {},
   "source": [
    "<br>\n",
    "Notice that there are more lines in the variable _dataset_ than the five printed. We can check the number of the lines with the function _len( )_ which will return the length of the variable given in the brackets."
   ]
  },
  {
   "cell_type": "code",
   "execution_count": 3,
   "metadata": {},
   "outputs": [
    {
     "data": {
      "text/plain": [
       "10583"
      ]
     },
     "execution_count": 3,
     "metadata": {},
     "output_type": "execute_result"
    }
   ],
   "source": [
    "len(dataset)"
   ]
  },
  {
   "cell_type": "markdown",
   "metadata": {},
   "source": [
    "### Observing and selecting the values\n"
   ]
  },
  {
   "cell_type": "markdown",
   "metadata": {},
   "source": [
    "From the print above, we can see that the content of the file has been saved into a table (DataFrame tabular data structure). Each line of the table represent a different collision event and the columns include different saved values for the event. Some of the values are measured by the detector and some have been calculated from the measured values.\n",
    "\n",
    "Values in the table can be accessed with the pandas module. For example the data we are using contains the charges of two muons marked as Q1 and Q2. We can select certain columns from a table e.g. the charges of the first muon for all of the events by referring to the column name:"
   ]
  },
  {
   "cell_type": "code",
   "execution_count": 4,
   "metadata": {},
   "outputs": [
    {
     "data": {
      "text/plain": [
       "0        1\n",
       "1       -1\n",
       "2       -1\n",
       "3        1\n",
       "4        1\n",
       "5       -1\n",
       "6       -1\n",
       "7       -1\n",
       "8        1\n",
       "9       -1\n",
       "10      -1\n",
       "11       1\n",
       "12       1\n",
       "13      -1\n",
       "14       1\n",
       "15      -1\n",
       "16       1\n",
       "17      -1\n",
       "18       1\n",
       "19       1\n",
       "20      -1\n",
       "21       1\n",
       "22      -1\n",
       "23      -1\n",
       "24       1\n",
       "25       1\n",
       "26       1\n",
       "27       1\n",
       "28      -1\n",
       "29       1\n",
       "        ..\n",
       "10553    1\n",
       "10554   -1\n",
       "10555    1\n",
       "10556   -1\n",
       "10557   -1\n",
       "10558   -1\n",
       "10559    1\n",
       "10560    1\n",
       "10561   -1\n",
       "10562    1\n",
       "10563    1\n",
       "10564    1\n",
       "10565    1\n",
       "10566   -1\n",
       "10567   -1\n",
       "10568   -1\n",
       "10569   -1\n",
       "10570   -1\n",
       "10571    1\n",
       "10572   -1\n",
       "10573    1\n",
       "10574    1\n",
       "10575   -1\n",
       "10576    1\n",
       "10577    1\n",
       "10578   -1\n",
       "10579    1\n",
       "10580   -1\n",
       "10581    1\n",
       "10582    1\n",
       "Name: Q1, Length: 10583, dtype: int64"
      ]
     },
     "execution_count": 4,
     "metadata": {},
     "output_type": "execute_result"
    }
   ],
   "source": [
    "dataset['Q1']"
   ]
  },
  {
   "cell_type": "markdown",
   "metadata": {},
   "source": [
    "Now the code printed the values of the column Q1 of the variable dataset. Of course all of the values will not be printed (there are over 10 000 of them) and on the last line of the print you can see the name, lengt and tyoe of the information printed.\n",
    "\n",
    "The numbers on the left tell the index of the line and the numbers on the right are the values of the charges. By replacing the Q1 in the code it is possible to select any of the column from the dataset (e.g. _pt1_, _eta1_, _phi2_, ...).\n",
    "\n",
    "If for example only the ten first values of the charges are wanted to be selected, it can be done by using the .loc method. In the method the brackets first include the indexes of the lines wanted to be selected (here lines 0--10) and after those the name of the column from where the lines will be selected (here Q1_). With Python 2, the method is _.ix."
   ]
  },
  {
   "cell_type": "code",
   "execution_count": 5,
   "metadata": {},
   "outputs": [
    {
     "data": {
      "text/plain": [
       "0     1\n",
       "1    -1\n",
       "2    -1\n",
       "3     1\n",
       "4     1\n",
       "5    -1\n",
       "6    -1\n",
       "7    -1\n",
       "8     1\n",
       "9    -1\n",
       "10   -1\n",
       "Name: Q1, dtype: int64"
      ]
     },
     "execution_count": 5,
     "metadata": {},
     "output_type": "execute_result"
    }
   ],
   "source": [
    "dataset.loc[0:10, 'Q1']\n",
    "# If you use Python 2, use\n",
    "# dataset.ix[0:10, 'Q1']"
   ]
  },
  {
   "cell_type": "markdown",
   "metadata": {},
   "source": [
    "Also individual values can be picked. Let's say we want to see that charges from indices 0,1,5 and 10. This can be done with"
   ]
  },
  {
   "cell_type": "code",
   "execution_count": 6,
   "metadata": {},
   "outputs": [
    {
     "data": {
      "text/plain": [
       "0     1\n",
       "1    -1\n",
       "5    -1\n",
       "10   -1\n",
       "Name: Q1, dtype: int64"
      ]
     },
     "execution_count": 6,
     "metadata": {},
     "output_type": "execute_result"
    }
   ],
   "source": [
    "dataset.loc[[0,1,5,10],'Q1']\n",
    "# If you use Python 2, use\n",
    "# dataset.ix[[0,1,5,10],'Q1']"
   ]
  },
  {
   "cell_type": "markdown",
   "metadata": {},
   "source": [
    "### Other notes\n",
    "\n",
    "- There are also other options for selecting the values. For example this [Stack Overflow link](http://stackoverflow.com/questions/31593201/pandas-iloc-vs-ix-vs-loc-explanation) includes other possibilities of the _pandas_ module. CSV files can also be read with other modules or libraries.\n",
    "- Note that different CSV files include different data depending on from which kind of collision events the file has been created. You can always check the content of the file by opening it in the Jupyter or in a text editor."
   ]
  },
  {
   "cell_type": "markdown",
   "metadata": {},
   "source": [
    "# Extracting data and saving it to a new file\n"
   ]
  },
  {
   "cell_type": "markdown",
   "metadata": {},
   "source": [
    "This exercise walks you through how to read csv-data, select certain data using selection rules and saving selected data into a new file."
   ]
  },
  {
   "cell_type": "markdown",
   "metadata": {},
   "source": [
    "First import the packages needed and then read and save the data from file *DoubleMuRun2011.csv* into variable *dataset*. Let's also check out the number of rows and the content of the file."
   ]
  },
  {
   "cell_type": "code",
   "execution_count": 7,
   "metadata": {},
   "outputs": [],
   "source": [
    "import pandas as pd\n",
    "import matplotlib.pyplot as plt\n",
    "%matplotlib inline"
   ]
  },
  {
   "cell_type": "code",
   "execution_count": 8,
   "metadata": {},
   "outputs": [
    {
     "name": "stdout",
     "output_type": "stream",
     "text": [
      "The file has 475465 rows.\n"
     ]
    },
    {
     "data": {
      "text/html": [
       "<div>\n",
       "<style scoped>\n",
       "    .dataframe tbody tr th:only-of-type {\n",
       "        vertical-align: middle;\n",
       "    }\n",
       "\n",
       "    .dataframe tbody tr th {\n",
       "        vertical-align: top;\n",
       "    }\n",
       "\n",
       "    .dataframe thead th {\n",
       "        text-align: right;\n",
       "    }\n",
       "</style>\n",
       "<table border=\"1\" class=\"dataframe\">\n",
       "  <thead>\n",
       "    <tr style=\"text-align: right;\">\n",
       "      <th></th>\n",
       "      <th>Run</th>\n",
       "      <th>Event</th>\n",
       "      <th>Type1</th>\n",
       "      <th>E1</th>\n",
       "      <th>px1</th>\n",
       "      <th>py1</th>\n",
       "      <th>pz1</th>\n",
       "      <th>pt1</th>\n",
       "      <th>eta1</th>\n",
       "      <th>phi1</th>\n",
       "      <th>...</th>\n",
       "      <th>Type2</th>\n",
       "      <th>E2</th>\n",
       "      <th>px2</th>\n",
       "      <th>py2</th>\n",
       "      <th>pz2</th>\n",
       "      <th>pt2</th>\n",
       "      <th>eta2</th>\n",
       "      <th>phi2</th>\n",
       "      <th>Q2</th>\n",
       "      <th>M</th>\n",
       "    </tr>\n",
       "  </thead>\n",
       "  <tbody>\n",
       "    <tr>\n",
       "      <th>0</th>\n",
       "      <td>165617</td>\n",
       "      <td>74601703</td>\n",
       "      <td>G</td>\n",
       "      <td>9.69873</td>\n",
       "      <td>-9.510430</td>\n",
       "      <td>0.366205</td>\n",
       "      <td>1.86329</td>\n",
       "      <td>9.51748</td>\n",
       "      <td>0.194546</td>\n",
       "      <td>3.10311</td>\n",
       "      <td>...</td>\n",
       "      <td>G</td>\n",
       "      <td>9.76332</td>\n",
       "      <td>7.327710</td>\n",
       "      <td>-1.152370</td>\n",
       "      <td>6.34728</td>\n",
       "      <td>7.41776</td>\n",
       "      <td>0.775564</td>\n",
       "      <td>-0.155984</td>\n",
       "      <td>1</td>\n",
       "      <td>17.49220</td>\n",
       "    </tr>\n",
       "    <tr>\n",
       "      <th>1</th>\n",
       "      <td>165617</td>\n",
       "      <td>75100943</td>\n",
       "      <td>G</td>\n",
       "      <td>6.20385</td>\n",
       "      <td>-4.266610</td>\n",
       "      <td>0.456545</td>\n",
       "      <td>-4.47930</td>\n",
       "      <td>4.29097</td>\n",
       "      <td>-0.912070</td>\n",
       "      <td>3.03499</td>\n",
       "      <td>...</td>\n",
       "      <td>G</td>\n",
       "      <td>9.66898</td>\n",
       "      <td>7.273970</td>\n",
       "      <td>-2.821120</td>\n",
       "      <td>-5.71040</td>\n",
       "      <td>7.80188</td>\n",
       "      <td>-0.678625</td>\n",
       "      <td>-0.369977</td>\n",
       "      <td>1</td>\n",
       "      <td>11.55340</td>\n",
       "    </tr>\n",
       "    <tr>\n",
       "      <th>2</th>\n",
       "      <td>165617</td>\n",
       "      <td>75587682</td>\n",
       "      <td>G</td>\n",
       "      <td>19.28920</td>\n",
       "      <td>-4.212080</td>\n",
       "      <td>-0.651623</td>\n",
       "      <td>18.81210</td>\n",
       "      <td>4.26219</td>\n",
       "      <td>2.190460</td>\n",
       "      <td>-2.98811</td>\n",
       "      <td>...</td>\n",
       "      <td>G</td>\n",
       "      <td>9.82439</td>\n",
       "      <td>4.343940</td>\n",
       "      <td>-0.473505</td>\n",
       "      <td>8.79849</td>\n",
       "      <td>4.36967</td>\n",
       "      <td>1.449670</td>\n",
       "      <td>-0.108575</td>\n",
       "      <td>1</td>\n",
       "      <td>9.16361</td>\n",
       "    </tr>\n",
       "    <tr>\n",
       "      <th>3</th>\n",
       "      <td>165617</td>\n",
       "      <td>75660978</td>\n",
       "      <td>G</td>\n",
       "      <td>7.04268</td>\n",
       "      <td>-6.326780</td>\n",
       "      <td>-0.268545</td>\n",
       "      <td>3.08025</td>\n",
       "      <td>6.33248</td>\n",
       "      <td>0.469033</td>\n",
       "      <td>-3.09917</td>\n",
       "      <td>...</td>\n",
       "      <td>G</td>\n",
       "      <td>5.58571</td>\n",
       "      <td>4.474760</td>\n",
       "      <td>0.848935</td>\n",
       "      <td>-3.23185</td>\n",
       "      <td>4.55458</td>\n",
       "      <td>-0.660499</td>\n",
       "      <td>0.187488</td>\n",
       "      <td>1</td>\n",
       "      <td>12.47740</td>\n",
       "    </tr>\n",
       "    <tr>\n",
       "      <th>4</th>\n",
       "      <td>165617</td>\n",
       "      <td>75947690</td>\n",
       "      <td>G</td>\n",
       "      <td>7.27507</td>\n",
       "      <td>0.102966</td>\n",
       "      <td>-5.533080</td>\n",
       "      <td>-4.72122</td>\n",
       "      <td>5.53403</td>\n",
       "      <td>-0.773616</td>\n",
       "      <td>-1.55219</td>\n",
       "      <td>...</td>\n",
       "      <td>G</td>\n",
       "      <td>7.31811</td>\n",
       "      <td>-0.398831</td>\n",
       "      <td>6.940810</td>\n",
       "      <td>2.28247</td>\n",
       "      <td>6.95226</td>\n",
       "      <td>0.322677</td>\n",
       "      <td>1.628190</td>\n",
       "      <td>1</td>\n",
       "      <td>14.31590</td>\n",
       "    </tr>\n",
       "  </tbody>\n",
       "</table>\n",
       "<p>5 rows × 21 columns</p>\n",
       "</div>"
      ],
      "text/plain": [
       "      Run     Event Type1        E1       px1       py1       pz1      pt1  \\\n",
       "0  165617  74601703     G   9.69873 -9.510430  0.366205   1.86329  9.51748   \n",
       "1  165617  75100943     G   6.20385 -4.266610  0.456545  -4.47930  4.29097   \n",
       "2  165617  75587682     G  19.28920 -4.212080 -0.651623  18.81210  4.26219   \n",
       "3  165617  75660978     G   7.04268 -6.326780 -0.268545   3.08025  6.33248   \n",
       "4  165617  75947690     G   7.27507  0.102966 -5.533080  -4.72122  5.53403   \n",
       "\n",
       "       eta1     phi1  ...  Type2       E2       px2       py2      pz2  \\\n",
       "0  0.194546  3.10311  ...      G  9.76332  7.327710 -1.152370  6.34728   \n",
       "1 -0.912070  3.03499  ...      G  9.66898  7.273970 -2.821120 -5.71040   \n",
       "2  2.190460 -2.98811  ...      G  9.82439  4.343940 -0.473505  8.79849   \n",
       "3  0.469033 -3.09917  ...      G  5.58571  4.474760  0.848935 -3.23185   \n",
       "4 -0.773616 -1.55219  ...      G  7.31811 -0.398831  6.940810  2.28247   \n",
       "\n",
       "       pt2      eta2      phi2  Q2         M  \n",
       "0  7.41776  0.775564 -0.155984   1  17.49220  \n",
       "1  7.80188 -0.678625 -0.369977   1  11.55340  \n",
       "2  4.36967  1.449670 -0.108575   1   9.16361  \n",
       "3  4.55458 -0.660499  0.187488   1  12.47740  \n",
       "4  6.95226  0.322677  1.628190   1  14.31590  \n",
       "\n",
       "[5 rows x 21 columns]"
      ]
     },
     "execution_count": 8,
     "metadata": {},
     "output_type": "execute_result"
    }
   ],
   "source": [
    "dataset = pd.read_csv('../Data/DoubleMuRun2011A.csv')\n",
    "print(\"The file has %d rows.\"% len(dataset))\n",
    "dataset.head()"
   ]
  },
  {
   "cell_type": "markdown",
   "metadata": {},
   "source": [
    "Plot a histogram of the invariant masses using the whole dataset."
   ]
  },
  {
   "cell_type": "code",
   "execution_count": 9,
   "metadata": {},
   "outputs": [
    {
     "data": {
      "image/png": "[encoded data removed]",
      "text/plain": [
       "<Figure size 432x288 with 1 Axes>"
      ]
     },
     "metadata": {
      "needs_background": "light"
     },
     "output_type": "display_data"
    }
   ],
   "source": [
    "plt.hist(dataset['M'], bins=500, range=(0,110))\n",
    "\n",
    "axes = plt.gca()\n",
    "axes.set_ylim([0,15000])\n",
    "\n",
    "# Name the axis and set a title\n",
    "plt.xlabel('Invariant mass [GeV]')\n",
    "plt.ylabel('Number of events')\n",
    "plt.title('Histogram of invariant masses of two muons\\n') # \\n creates a new line for making the title look better\n",
    "\n",
    "# Show the plot.\n",
    "plt.show()"
   ]
  },
  {
   "cell_type": "markdown",
   "metadata": {},
   "source": [
    "Histogram shows multiple peaks from which we are interested in the one on the right. Let's choose the rows from the original data that hae invariant mass values between 70 < M < 110 and save these into variable *peakdata*. We can also check how many rows of data fill these conditions."
   ]
  },
  {
   "cell_type": "code",
   "execution_count": 10,
   "metadata": {},
   "outputs": [
    {
     "data": {
      "text/plain": [
       "33177"
      ]
     },
     "execution_count": 10,
     "metadata": {},
     "output_type": "execute_result"
    }
   ],
   "source": [
    "peakdata = dataset[(dataset.M>70) & (dataset.M<110)] #Z\n",
    "len(peakdata)"
   ]
  },
  {
   "cell_type": "markdown",
   "metadata": {},
   "source": [
    "We can now easily plot a histogram for invariant masses of the selected data."
   ]
  },
  {
   "cell_type": "code",
   "execution_count": 11,
   "metadata": {},
   "outputs": [
    {
     "data": {
      "image/png": "[encoded data removed]",
      "text/plain": [
       "<Figure size 432x288 with 1 Axes>"
      ]
     },
     "metadata": {
      "needs_background": "light"
     },
     "output_type": "display_data"
    }
   ],
   "source": [
    "inv_mass = peakdata['M']\n",
    "plt.hist(inv_mass, bins=50)\n",
    "plt.show()"
   ]
  },
  {
   "cell_type": "markdown",
   "metadata": {},
   "source": [
    "The selected conditions for data seem applicable but let's check the minimum and maximum values for invariant mass in our selected data. This way we can make sure that our conditions hold."
   ]
  },
  {
   "cell_type": "code",
   "execution_count": 12,
   "metadata": {},
   "outputs": [
    {
     "name": "stdout",
     "output_type": "stream",
     "text": [
      "The smallest value of invariant mass is 70.006900 and the greatest is 109.999000 in selected data.\n"
     ]
    }
   ],
   "source": [
    "minimum = min(peakdata['M'])\n",
    "maximum = max(peakdata['M'])\n",
    "print(\"The smallest value of invariant mass is %f and the greatest is %f in selected data.\" %(minimum,maximum))"
   ]
  },
  {
   "cell_type": "markdown",
   "metadata": {},
   "source": [
    "We see that our conditions hold so let's save the data in *peakdata* into a csv-file and name it *peak.csv*. We can leave out the original indices but it's good to keep the original column titels. The created file will be saved in the same folder with the notebook."
   ]
  },
  {
   "cell_type": "code",
   "execution_count": 13,
   "metadata": {},
   "outputs": [],
   "source": [
    "peakdata.to_csv('peak.csv',index=False,header=True)"
   ]
  },
  {
   "cell_type": "markdown",
   "metadata": {},
   "source": [
    "We can make sure that we managed to save the data we wanted by reading the file *peak.csv* and printing the first five rows of it."
   ]
  },
  {
   "cell_type": "code",
   "execution_count": 14,
   "metadata": {},
   "outputs": [
    {
     "data": {
      "text/html": [
       "<div>\n",
       "<style scoped>\n",
       "    .dataframe tbody tr th:only-of-type {\n",
       "        vertical-align: middle;\n",
       "    }\n",
       "\n",
       "    .dataframe tbody tr th {\n",
       "        vertical-align: top;\n",
       "    }\n",
       "\n",
       "    .dataframe thead th {\n",
       "        text-align: right;\n",
       "    }\n",
       "</style>\n",
       "<table border=\"1\" class=\"dataframe\">\n",
       "  <thead>\n",
       "    <tr style=\"text-align: right;\">\n",
       "      <th></th>\n",
       "      <th>Run</th>\n",
       "      <th>Event</th>\n",
       "      <th>Type1</th>\n",
       "      <th>E1</th>\n",
       "      <th>px1</th>\n",
       "      <th>py1</th>\n",
       "      <th>pz1</th>\n",
       "      <th>pt1</th>\n",
       "      <th>eta1</th>\n",
       "      <th>phi1</th>\n",
       "      <th>...</th>\n",
       "      <th>Type2</th>\n",
       "      <th>E2</th>\n",
       "      <th>px2</th>\n",
       "      <th>py2</th>\n",
       "      <th>pz2</th>\n",
       "      <th>pt2</th>\n",
       "      <th>eta2</th>\n",
       "      <th>phi2</th>\n",
       "      <th>Q2</th>\n",
       "      <th>M</th>\n",
       "    </tr>\n",
       "  </thead>\n",
       "  <tbody>\n",
       "    <tr>\n",
       "      <th>0</th>\n",
       "      <td>165617</td>\n",
       "      <td>74969122</td>\n",
       "      <td>G</td>\n",
       "      <td>59.9226</td>\n",
       "      <td>-46.15160</td>\n",
       "      <td>29.4115</td>\n",
       "      <td>-24.4070</td>\n",
       "      <td>54.7266</td>\n",
       "      <td>-0.432382</td>\n",
       "      <td>2.574210</td>\n",
       "      <td>...</td>\n",
       "      <td>G</td>\n",
       "      <td>52.4465</td>\n",
       "      <td>30.10970</td>\n",
       "      <td>-16.39890</td>\n",
       "      <td>-39.68760</td>\n",
       "      <td>34.2859</td>\n",
       "      <td>-0.988511</td>\n",
       "      <td>-0.498717</td>\n",
       "      <td>-1</td>\n",
       "      <td>89.9557</td>\n",
       "    </tr>\n",
       "    <tr>\n",
       "      <th>1</th>\n",
       "      <td>165617</td>\n",
       "      <td>75138253</td>\n",
       "      <td>G</td>\n",
       "      <td>97.1011</td>\n",
       "      <td>-23.61440</td>\n",
       "      <td>6.6660</td>\n",
       "      <td>-93.9497</td>\n",
       "      <td>24.5372</td>\n",
       "      <td>-2.052350</td>\n",
       "      <td>2.866470</td>\n",
       "      <td>...</td>\n",
       "      <td>G</td>\n",
       "      <td>30.5992</td>\n",
       "      <td>-11.61340</td>\n",
       "      <td>-25.98480</td>\n",
       "      <td>11.23470</td>\n",
       "      <td>28.4619</td>\n",
       "      <td>0.385137</td>\n",
       "      <td>-1.991090</td>\n",
       "      <td>1</td>\n",
       "      <td>88.6081</td>\n",
       "    </tr>\n",
       "    <tr>\n",
       "      <th>2</th>\n",
       "      <td>165617</td>\n",
       "      <td>75887636</td>\n",
       "      <td>G</td>\n",
       "      <td>152.9720</td>\n",
       "      <td>7.46565</td>\n",
       "      <td>-30.7098</td>\n",
       "      <td>-149.6710</td>\n",
       "      <td>31.6042</td>\n",
       "      <td>-2.259260</td>\n",
       "      <td>-1.332320</td>\n",
       "      <td>...</td>\n",
       "      <td>G</td>\n",
       "      <td>33.5835</td>\n",
       "      <td>-9.28778</td>\n",
       "      <td>28.74570</td>\n",
       "      <td>-14.67190</td>\n",
       "      <td>30.2089</td>\n",
       "      <td>-0.468368</td>\n",
       "      <td>1.883310</td>\n",
       "      <td>1</td>\n",
       "      <td>88.2438</td>\n",
       "    </tr>\n",
       "    <tr>\n",
       "      <th>3</th>\n",
       "      <td>165617</td>\n",
       "      <td>75833588</td>\n",
       "      <td>G</td>\n",
       "      <td>181.8770</td>\n",
       "      <td>44.14270</td>\n",
       "      <td>-14.9498</td>\n",
       "      <td>175.8040</td>\n",
       "      <td>46.6055</td>\n",
       "      <td>2.037920</td>\n",
       "      <td>-0.326545</td>\n",
       "      <td>...</td>\n",
       "      <td>G</td>\n",
       "      <td>170.0210</td>\n",
       "      <td>-34.63010</td>\n",
       "      <td>12.32480</td>\n",
       "      <td>166.00000</td>\n",
       "      <td>36.7579</td>\n",
       "      <td>2.212820</td>\n",
       "      <td>2.799670</td>\n",
       "      <td>-1</td>\n",
       "      <td>83.0943</td>\n",
       "    </tr>\n",
       "    <tr>\n",
       "      <th>4</th>\n",
       "      <td>165617</td>\n",
       "      <td>75779415</td>\n",
       "      <td>G</td>\n",
       "      <td>50.2440</td>\n",
       "      <td>37.80720</td>\n",
       "      <td>-12.2044</td>\n",
       "      <td>-30.7590</td>\n",
       "      <td>39.7283</td>\n",
       "      <td>-0.712422</td>\n",
       "      <td>-0.312246</td>\n",
       "      <td>...</td>\n",
       "      <td>G</td>\n",
       "      <td>49.2396</td>\n",
       "      <td>-47.60640</td>\n",
       "      <td>8.23376</td>\n",
       "      <td>-9.50613</td>\n",
       "      <td>48.3132</td>\n",
       "      <td>-0.195513</td>\n",
       "      <td>2.970330</td>\n",
       "      <td>-1</td>\n",
       "      <td>90.3544</td>\n",
       "    </tr>\n",
       "  </tbody>\n",
       "</table>\n",
       "<p>5 rows × 21 columns</p>\n",
       "</div>"
      ],
      "text/plain": [
       "      Run     Event Type1        E1       px1      py1       pz1      pt1  \\\n",
       "0  165617  74969122     G   59.9226 -46.15160  29.4115  -24.4070  54.7266   \n",
       "1  165617  75138253     G   97.1011 -23.61440   6.6660  -93.9497  24.5372   \n",
       "2  165617  75887636     G  152.9720   7.46565 -30.7098 -149.6710  31.6042   \n",
       "3  165617  75833588     G  181.8770  44.14270 -14.9498  175.8040  46.6055   \n",
       "4  165617  75779415     G   50.2440  37.80720 -12.2044  -30.7590  39.7283   \n",
       "\n",
       "       eta1      phi1  ...  Type2        E2       px2       py2        pz2  \\\n",
       "0 -0.432382  2.574210  ...      G   52.4465  30.10970 -16.39890  -39.68760   \n",
       "1 -2.052350  2.866470  ...      G   30.5992 -11.61340 -25.98480   11.23470   \n",
       "2 -2.259260 -1.332320  ...      G   33.5835  -9.28778  28.74570  -14.67190   \n",
       "3  2.037920 -0.326545  ...      G  170.0210 -34.63010  12.32480  166.00000   \n",
       "4 -0.712422 -0.312246  ...      G   49.2396 -47.60640   8.23376   -9.50613   \n",
       "\n",
       "       pt2      eta2      phi2  Q2        M  \n",
       "0  34.2859 -0.988511 -0.498717  -1  89.9557  \n",
       "1  28.4619  0.385137 -1.991090   1  88.6081  \n",
       "2  30.2089 -0.468368  1.883310   1  88.2438  \n",
       "3  36.7579  2.212820  2.799670  -1  83.0943  \n",
       "4  48.3132 -0.195513  2.970330  -1  90.3544  \n",
       "\n",
       "[5 rows x 21 columns]"
      ]
     },
     "execution_count": 14,
     "metadata": {},
     "output_type": "execute_result"
    }
   ],
   "source": [
    "test = pd.read_csv('peak.csv')\n",
    "test.head()"
   ]
  },
  {
   "cell_type": "markdown",
   "metadata": {},
   "source": [
    "# Add column to a DataFrame\n"
   ]
  },
  {
   "cell_type": "markdown",
   "metadata": {},
   "source": [
    "This example demonstrates how to import a csv.-file, calculate using its values and how to add calculated values to the original table. In this example we calculate the invariant masses for different events."
   ]
  },
  {
   "cell_type": "markdown",
   "metadata": {},
   "source": [
    "### Getting the data"
   ]
  },
  {
   "cell_type": "markdown",
   "metadata": {},
   "source": [
    "We need to import packages *pandas* and *numpy* in order to read files and make calculations."
   ]
  },
  {
   "cell_type": "code",
   "execution_count": 15,
   "metadata": {},
   "outputs": [],
   "source": [
    "import pandas as pd\n",
    "import numpy as np"
   ]
  },
  {
   "cell_type": "markdown",
   "metadata": {},
   "source": [
    "Read data from file *Zmumu_Run2011A.csv* which is located in the folder *Data*. Save the information into a variable  *dataset*."
   ]
  },
  {
   "cell_type": "code",
   "execution_count": 16,
   "metadata": {},
   "outputs": [],
   "source": [
    "dataset = pd.read_csv('../Data/Zmumu_Run2011A.csv')"
   ]
  },
  {
   "cell_type": "markdown",
   "metadata": {},
   "source": [
    "We can check the content that we saved to the variable _dataset_ by printing the 5 first rows with the following code"
   ]
  },
  {
   "cell_type": "code",
   "execution_count": 17,
   "metadata": {},
   "outputs": [
    {
     "data": {
      "text/html": [
       "<div>\n",
       "<style scoped>\n",
       "    .dataframe tbody tr th:only-of-type {\n",
       "        vertical-align: middle;\n",
       "    }\n",
       "\n",
       "    .dataframe tbody tr th {\n",
       "        vertical-align: top;\n",
       "    }\n",
       "\n",
       "    .dataframe thead th {\n",
       "        text-align: right;\n",
       "    }\n",
       "</style>\n",
       "<table border=\"1\" class=\"dataframe\">\n",
       "  <thead>\n",
       "    <tr style=\"text-align: right;\">\n",
       "      <th></th>\n",
       "      <th>Run</th>\n",
       "      <th>Event</th>\n",
       "      <th>pt1</th>\n",
       "      <th>eta1</th>\n",
       "      <th>phi1</th>\n",
       "      <th>Q1</th>\n",
       "      <th>dxy1</th>\n",
       "      <th>iso1</th>\n",
       "      <th>pt2</th>\n",
       "      <th>eta2</th>\n",
       "      <th>phi2</th>\n",
       "      <th>Q2</th>\n",
       "      <th>dxy2</th>\n",
       "      <th>iso2</th>\n",
       "    </tr>\n",
       "  </thead>\n",
       "  <tbody>\n",
       "    <tr>\n",
       "      <th>0</th>\n",
       "      <td>165617</td>\n",
       "      <td>74969122</td>\n",
       "      <td>54.7055</td>\n",
       "      <td>-0.432396</td>\n",
       "      <td>2.574210</td>\n",
       "      <td>1</td>\n",
       "      <td>-0.074544</td>\n",
       "      <td>0.499921</td>\n",
       "      <td>34.2464</td>\n",
       "      <td>-0.988480</td>\n",
       "      <td>-0.498704</td>\n",
       "      <td>-1</td>\n",
       "      <td>0.071222</td>\n",
       "      <td>3.42214</td>\n",
       "    </tr>\n",
       "    <tr>\n",
       "      <th>1</th>\n",
       "      <td>165617</td>\n",
       "      <td>75138253</td>\n",
       "      <td>24.5872</td>\n",
       "      <td>-2.052200</td>\n",
       "      <td>2.866570</td>\n",
       "      <td>-1</td>\n",
       "      <td>-0.055437</td>\n",
       "      <td>0.000000</td>\n",
       "      <td>28.5389</td>\n",
       "      <td>0.385163</td>\n",
       "      <td>-1.991170</td>\n",
       "      <td>1</td>\n",
       "      <td>0.051477</td>\n",
       "      <td>0.00000</td>\n",
       "    </tr>\n",
       "    <tr>\n",
       "      <th>2</th>\n",
       "      <td>165617</td>\n",
       "      <td>75887636</td>\n",
       "      <td>31.7386</td>\n",
       "      <td>-2.259450</td>\n",
       "      <td>-1.332290</td>\n",
       "      <td>-1</td>\n",
       "      <td>0.087917</td>\n",
       "      <td>0.000000</td>\n",
       "      <td>30.2344</td>\n",
       "      <td>-0.468419</td>\n",
       "      <td>1.883310</td>\n",
       "      <td>1</td>\n",
       "      <td>-0.087639</td>\n",
       "      <td>0.00000</td>\n",
       "    </tr>\n",
       "    <tr>\n",
       "      <th>3</th>\n",
       "      <td>165617</td>\n",
       "      <td>75779415</td>\n",
       "      <td>39.7394</td>\n",
       "      <td>-0.712338</td>\n",
       "      <td>-0.312266</td>\n",
       "      <td>1</td>\n",
       "      <td>0.058481</td>\n",
       "      <td>0.000000</td>\n",
       "      <td>48.2790</td>\n",
       "      <td>-0.195625</td>\n",
       "      <td>2.970320</td>\n",
       "      <td>-1</td>\n",
       "      <td>-0.049201</td>\n",
       "      <td>0.00000</td>\n",
       "    </tr>\n",
       "    <tr>\n",
       "      <th>4</th>\n",
       "      <td>165617</td>\n",
       "      <td>75098104</td>\n",
       "      <td>41.2998</td>\n",
       "      <td>-0.157055</td>\n",
       "      <td>-3.040770</td>\n",
       "      <td>1</td>\n",
       "      <td>-0.030463</td>\n",
       "      <td>1.228040</td>\n",
       "      <td>43.4508</td>\n",
       "      <td>0.590958</td>\n",
       "      <td>-0.042756</td>\n",
       "      <td>-1</td>\n",
       "      <td>0.044175</td>\n",
       "      <td>0.00000</td>\n",
       "    </tr>\n",
       "  </tbody>\n",
       "</table>\n",
       "</div>"
      ],
      "text/plain": [
       "      Run     Event      pt1      eta1      phi1  Q1      dxy1      iso1  \\\n",
       "0  165617  74969122  54.7055 -0.432396  2.574210   1 -0.074544  0.499921   \n",
       "1  165617  75138253  24.5872 -2.052200  2.866570  -1 -0.055437  0.000000   \n",
       "2  165617  75887636  31.7386 -2.259450 -1.332290  -1  0.087917  0.000000   \n",
       "3  165617  75779415  39.7394 -0.712338 -0.312266   1  0.058481  0.000000   \n",
       "4  165617  75098104  41.2998 -0.157055 -3.040770   1 -0.030463  1.228040   \n",
       "\n",
       "       pt2      eta2      phi2  Q2      dxy2     iso2  \n",
       "0  34.2464 -0.988480 -0.498704  -1  0.071222  3.42214  \n",
       "1  28.5389  0.385163 -1.991170   1  0.051477  0.00000  \n",
       "2  30.2344 -0.468419  1.883310   1 -0.087639  0.00000  \n",
       "3  48.2790 -0.195625  2.970320  -1 -0.049201  0.00000  \n",
       "4  43.4508  0.590958 -0.042756  -1  0.044175  0.00000  "
      ]
     },
     "execution_count": 17,
     "metadata": {},
     "output_type": "execute_result"
    }
   ],
   "source": [
    "dataset.head()"
   ]
  },
  {
   "cell_type": "markdown",
   "metadata": {},
   "source": [
    "and also the type of the variable. We need to know the type since we want to combine our calcutations with this variable."
   ]
  },
  {
   "cell_type": "code",
   "execution_count": 18,
   "metadata": {},
   "outputs": [
    {
     "data": {
      "text/plain": [
       "pandas.core.frame.DataFrame"
      ]
     },
     "execution_count": 18,
     "metadata": {},
     "output_type": "execute_result"
    }
   ],
   "source": [
    "type(dataset)"
   ]
  },
  {
   "cell_type": "markdown",
   "metadata": {},
   "source": [
    "### Performing the calculation"
   ]
  },
  {
   "cell_type": "markdown",
   "metadata": {},
   "source": [
    "Let's use the following expression for the invariant mass $M$ in the calculation\n",
    "\n",
    "$$M = \\sqrt{2p_{T1}p_{T2}(\\cosh(\\eta_1-\\eta_2)-\\cos(\\phi_1-\\phi_2))}.$$\n",
    "and use *numpy (np)* for performing the calculation."
   ]
  },
  {
   "cell_type": "code",
   "execution_count": 19,
   "metadata": {},
   "outputs": [],
   "source": [
    "invariant_mass = np.sqrt(2*dataset.pt1*dataset.pt2*(np.cosh(dataset.eta1-dataset.eta2) - np.cos(dataset.phi1-dataset.phi2)))"
   ]
  },
  {
   "cell_type": "markdown",
   "metadata": {},
   "source": [
    "After the calculation we can check which values were saved in the variable _invariant_\\__mass_ by printing the content of the variable:"
   ]
  },
  {
   "cell_type": "code",
   "execution_count": 20,
   "metadata": {},
   "outputs": [
    {
     "name": "stdout",
     "output_type": "stream",
     "text": [
      "0         89.885744\n",
      "1         88.810987\n",
      "2         88.472502\n",
      "3         90.332620\n",
      "4         90.514507\n",
      "5         78.860094\n",
      "6         92.362439\n",
      "7         63.757254\n",
      "8         93.118647\n",
      "9         92.941701\n",
      "10        88.896587\n",
      "11        85.363437\n",
      "12        87.934228\n",
      "13        90.414225\n",
      "14        65.034823\n",
      "15        89.348601\n",
      "16        91.297563\n",
      "17        92.258489\n",
      "18        92.493002\n",
      "19        68.358712\n",
      "20        92.112023\n",
      "21        91.171556\n",
      "22        85.909734\n",
      "23        91.645777\n",
      "24        88.392430\n",
      "25        91.760237\n",
      "26        91.179805\n",
      "27        91.785881\n",
      "28        91.349970\n",
      "29        99.112667\n",
      "            ...    \n",
      "10553     91.027596\n",
      "10554     93.261764\n",
      "10555     76.810535\n",
      "10556     80.206206\n",
      "10557     89.126026\n",
      "10558     96.116627\n",
      "10559     89.928690\n",
      "10560     87.901985\n",
      "10561     90.919888\n",
      "10562     90.767179\n",
      "10563     63.837491\n",
      "10564     76.605770\n",
      "10565     67.312657\n",
      "10566     89.984530\n",
      "10567     94.494826\n",
      "10568     89.234208\n",
      "10569     91.644511\n",
      "10570     67.081134\n",
      "10571     91.920312\n",
      "10572     64.272065\n",
      "10573     87.095179\n",
      "10574     90.373603\n",
      "10575    117.853840\n",
      "10576     84.385922\n",
      "10577     90.999327\n",
      "10578     90.610799\n",
      "10579     89.744873\n",
      "10580     90.714366\n",
      "10581     91.945212\n",
      "10582     87.838121\n",
      "Length: 10583, dtype: float64\n"
     ]
    }
   ],
   "source": [
    "print(invariant_mass)"
   ]
  },
  {
   "cell_type": "markdown",
   "metadata": {},
   "source": [
    "Let's add the column of invariant masses to the original *dataset* which is the type DataFrame. First we need to know the type of *invariant_mass*"
   ]
  },
  {
   "cell_type": "code",
   "execution_count": 21,
   "metadata": {},
   "outputs": [
    {
     "data": {
      "text/plain": [
       "pandas.core.series.Series"
      ]
     },
     "execution_count": 21,
     "metadata": {},
     "output_type": "execute_result"
    }
   ],
   "source": [
    "type(invariant_mass)"
   ]
  },
  {
   "cell_type": "markdown",
   "metadata": {},
   "source": [
    "Since *invariant_mass* is a Series, we need to convert it into a DataFrame. Let's name the conversion *inv_masses* and give the column a heading *M*."
   ]
  },
  {
   "cell_type": "code",
   "execution_count": 22,
   "metadata": {},
   "outputs": [],
   "source": [
    "inv_masses = invariant_mass.to_frame('M')"
   ]
  },
  {
   "cell_type": "markdown",
   "metadata": {},
   "source": [
    "Now we can combine *dataset* with *inv_masses* using the command *merge*. Let's save it into a variable *all_data*."
   ]
  },
  {
   "cell_type": "code",
   "execution_count": 23,
   "metadata": {},
   "outputs": [
    {
     "data": {
      "text/html": [
       "<div>\n",
       "<style scoped>\n",
       "    .dataframe tbody tr th:only-of-type {\n",
       "        vertical-align: middle;\n",
       "    }\n",
       "\n",
       "    .dataframe tbody tr th {\n",
       "        vertical-align: top;\n",
       "    }\n",
       "\n",
       "    .dataframe thead th {\n",
       "        text-align: right;\n",
       "    }\n",
       "</style>\n",
       "<table border=\"1\" class=\"dataframe\">\n",
       "  <thead>\n",
       "    <tr style=\"text-align: right;\">\n",
       "      <th></th>\n",
       "      <th>Run</th>\n",
       "      <th>Event</th>\n",
       "      <th>pt1</th>\n",
       "      <th>eta1</th>\n",
       "      <th>phi1</th>\n",
       "      <th>Q1</th>\n",
       "      <th>dxy1</th>\n",
       "      <th>iso1</th>\n",
       "      <th>pt2</th>\n",
       "      <th>eta2</th>\n",
       "      <th>phi2</th>\n",
       "      <th>Q2</th>\n",
       "      <th>dxy2</th>\n",
       "      <th>iso2</th>\n",
       "      <th>M</th>\n",
       "    </tr>\n",
       "  </thead>\n",
       "  <tbody>\n",
       "    <tr>\n",
       "      <th>0</th>\n",
       "      <td>165617</td>\n",
       "      <td>74969122</td>\n",
       "      <td>54.7055</td>\n",
       "      <td>-0.432396</td>\n",
       "      <td>2.574210</td>\n",
       "      <td>1</td>\n",
       "      <td>-0.074544</td>\n",
       "      <td>0.499921</td>\n",
       "      <td>34.2464</td>\n",
       "      <td>-0.988480</td>\n",
       "      <td>-0.498704</td>\n",
       "      <td>-1</td>\n",
       "      <td>0.071222</td>\n",
       "      <td>3.42214</td>\n",
       "      <td>89.885744</td>\n",
       "    </tr>\n",
       "    <tr>\n",
       "      <th>1</th>\n",
       "      <td>165617</td>\n",
       "      <td>75138253</td>\n",
       "      <td>24.5872</td>\n",
       "      <td>-2.052200</td>\n",
       "      <td>2.866570</td>\n",
       "      <td>-1</td>\n",
       "      <td>-0.055437</td>\n",
       "      <td>0.000000</td>\n",
       "      <td>28.5389</td>\n",
       "      <td>0.385163</td>\n",
       "      <td>-1.991170</td>\n",
       "      <td>1</td>\n",
       "      <td>0.051477</td>\n",
       "      <td>0.00000</td>\n",
       "      <td>88.810987</td>\n",
       "    </tr>\n",
       "    <tr>\n",
       "      <th>2</th>\n",
       "      <td>165617</td>\n",
       "      <td>75887636</td>\n",
       "      <td>31.7386</td>\n",
       "      <td>-2.259450</td>\n",
       "      <td>-1.332290</td>\n",
       "      <td>-1</td>\n",
       "      <td>0.087917</td>\n",
       "      <td>0.000000</td>\n",
       "      <td>30.2344</td>\n",
       "      <td>-0.468419</td>\n",
       "      <td>1.883310</td>\n",
       "      <td>1</td>\n",
       "      <td>-0.087639</td>\n",
       "      <td>0.00000</td>\n",
       "      <td>88.472502</td>\n",
       "    </tr>\n",
       "    <tr>\n",
       "      <th>3</th>\n",
       "      <td>165617</td>\n",
       "      <td>75779415</td>\n",
       "      <td>39.7394</td>\n",
       "      <td>-0.712338</td>\n",
       "      <td>-0.312266</td>\n",
       "      <td>1</td>\n",
       "      <td>0.058481</td>\n",
       "      <td>0.000000</td>\n",
       "      <td>48.2790</td>\n",
       "      <td>-0.195625</td>\n",
       "      <td>2.970320</td>\n",
       "      <td>-1</td>\n",
       "      <td>-0.049201</td>\n",
       "      <td>0.00000</td>\n",
       "      <td>90.332620</td>\n",
       "    </tr>\n",
       "    <tr>\n",
       "      <th>4</th>\n",
       "      <td>165617</td>\n",
       "      <td>75098104</td>\n",
       "      <td>41.2998</td>\n",
       "      <td>-0.157055</td>\n",
       "      <td>-3.040770</td>\n",
       "      <td>1</td>\n",
       "      <td>-0.030463</td>\n",
       "      <td>1.228040</td>\n",
       "      <td>43.4508</td>\n",
       "      <td>0.590958</td>\n",
       "      <td>-0.042756</td>\n",
       "      <td>-1</td>\n",
       "      <td>0.044175</td>\n",
       "      <td>0.00000</td>\n",
       "      <td>90.514507</td>\n",
       "    </tr>\n",
       "  </tbody>\n",
       "</table>\n",
       "</div>"
      ],
      "text/plain": [
       "      Run     Event      pt1      eta1      phi1  Q1      dxy1      iso1  \\\n",
       "0  165617  74969122  54.7055 -0.432396  2.574210   1 -0.074544  0.499921   \n",
       "1  165617  75138253  24.5872 -2.052200  2.866570  -1 -0.055437  0.000000   \n",
       "2  165617  75887636  31.7386 -2.259450 -1.332290  -1  0.087917  0.000000   \n",
       "3  165617  75779415  39.7394 -0.712338 -0.312266   1  0.058481  0.000000   \n",
       "4  165617  75098104  41.2998 -0.157055 -3.040770   1 -0.030463  1.228040   \n",
       "\n",
       "       pt2      eta2      phi2  Q2      dxy2     iso2          M  \n",
       "0  34.2464 -0.988480 -0.498704  -1  0.071222  3.42214  89.885744  \n",
       "1  28.5389  0.385163 -1.991170   1  0.051477  0.00000  88.810987  \n",
       "2  30.2344 -0.468419  1.883310   1 -0.087639  0.00000  88.472502  \n",
       "3  48.2790 -0.195625  2.970320  -1 -0.049201  0.00000  90.332620  \n",
       "4  43.4508  0.590958 -0.042756  -1  0.044175  0.00000  90.514507  "
      ]
     },
     "execution_count": 23,
     "metadata": {},
     "output_type": "execute_result"
    }
   ],
   "source": [
    "all_data = dataset.merge(inv_masses, left_index=True, right_index=True)\n",
    "all_data.head()"
   ]
  },
  {
   "cell_type": "markdown",
   "metadata": {},
   "source": [
    "As you can see, the calculated invariant masses are now in the last column with heading *M*."
   ]
  },
  {
   "cell_type": "code",
   "execution_count": null,
   "metadata": {},
   "outputs": [],
   "source": []
  }
 ],
 "metadata": {
  "kernelspec": {
   "display_name": "Python 3",
   "language": "python",
   "name": "python3"
  }
 },
 "nbformat": 4,
 "nbformat_minor": 4
}
